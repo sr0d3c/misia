{
  "nbformat": 4,
  "nbformat_minor": 0,
  "metadata": {
    "celltoolbar": "Tags",
    "kernelspec": {
      "display_name": "Python 3",
      "language": "python",
      "name": "python3"
    },
    "language_info": {
      "codemirror_mode": {
        "name": "ipython",
        "version": 3
      },
      "file_extension": ".py",
      "mimetype": "text/x-python",
      "name": "python",
      "nbconvert_exporter": "python",
      "pygments_lexer": "ipython3",
      "version": "3.7.6"
    },
    "colab": {
      "name": "ExamplePytorchCNN.ipynb",
      "provenance": [],
      "collapsed_sections": []
    },
    "accelerator": "GPU",
    "widgets": {
      "application/vnd.jupyter.widget-state+json": {
        "8c74523e74ff4aee85fde72defce04b4": {
          "model_module": "@jupyter-widgets/controls",
          "model_name": "HBoxModel",
          "state": {
            "_view_name": "HBoxView",
            "_dom_classes": [],
            "_model_name": "HBoxModel",
            "_view_module": "@jupyter-widgets/controls",
            "_model_module_version": "1.5.0",
            "_view_count": null,
            "_view_module_version": "1.5.0",
            "box_style": "",
            "layout": "IPY_MODEL_278cd7e8919244b48ea1603ffcf2b6bb",
            "_model_module": "@jupyter-widgets/controls",
            "children": [
              "IPY_MODEL_ff026e445375477788fe3a58aed90683",
              "IPY_MODEL_a16517cc7e91445081dad108e7a200af"
            ]
          }
        },
        "278cd7e8919244b48ea1603ffcf2b6bb": {
          "model_module": "@jupyter-widgets/base",
          "model_name": "LayoutModel",
          "state": {
            "_view_name": "LayoutView",
            "grid_template_rows": null,
            "right": null,
            "justify_content": null,
            "_view_module": "@jupyter-widgets/base",
            "overflow": null,
            "_model_module_version": "1.2.0",
            "_view_count": null,
            "flex_flow": null,
            "width": null,
            "min_width": null,
            "border": null,
            "align_items": null,
            "bottom": null,
            "_model_module": "@jupyter-widgets/base",
            "top": null,
            "grid_column": null,
            "overflow_y": null,
            "overflow_x": null,
            "grid_auto_flow": null,
            "grid_area": null,
            "grid_template_columns": null,
            "flex": null,
            "_model_name": "LayoutModel",
            "justify_items": null,
            "grid_row": null,
            "max_height": null,
            "align_content": null,
            "visibility": null,
            "align_self": null,
            "height": null,
            "min_height": null,
            "padding": null,
            "grid_auto_rows": null,
            "grid_gap": null,
            "max_width": null,
            "order": null,
            "_view_module_version": "1.2.0",
            "grid_template_areas": null,
            "object_position": null,
            "object_fit": null,
            "grid_auto_columns": null,
            "margin": null,
            "display": null,
            "left": null
          }
        },
        "ff026e445375477788fe3a58aed90683": {
          "model_module": "@jupyter-widgets/controls",
          "model_name": "FloatProgressModel",
          "state": {
            "_view_name": "ProgressView",
            "style": "IPY_MODEL_09cb1851881d4750b4841456f4015f99",
            "_dom_classes": [],
            "description": "",
            "_model_name": "FloatProgressModel",
            "bar_style": "success",
            "max": 1,
            "_view_module": "@jupyter-widgets/controls",
            "_model_module_version": "1.5.0",
            "value": 1,
            "_view_count": null,
            "_view_module_version": "1.5.0",
            "orientation": "horizontal",
            "min": 0,
            "description_tooltip": null,
            "_model_module": "@jupyter-widgets/controls",
            "layout": "IPY_MODEL_b4aeb575d6e64a8a91c6b5c6a3d3180d"
          }
        },
        "a16517cc7e91445081dad108e7a200af": {
          "model_module": "@jupyter-widgets/controls",
          "model_name": "HTMLModel",
          "state": {
            "_view_name": "HTMLView",
            "style": "IPY_MODEL_ff049abf4be24295bb0097635d48092c",
            "_dom_classes": [],
            "description": "",
            "_model_name": "HTMLModel",
            "placeholder": "​",
            "_view_module": "@jupyter-widgets/controls",
            "_model_module_version": "1.5.0",
            "value": " 170500096/? [00:09&lt;00:00, 18363610.47it/s]",
            "_view_count": null,
            "_view_module_version": "1.5.0",
            "description_tooltip": null,
            "_model_module": "@jupyter-widgets/controls",
            "layout": "IPY_MODEL_0b9b74aae75840d8bb7864db45150bd1"
          }
        },
        "09cb1851881d4750b4841456f4015f99": {
          "model_module": "@jupyter-widgets/controls",
          "model_name": "ProgressStyleModel",
          "state": {
            "_view_name": "StyleView",
            "_model_name": "ProgressStyleModel",
            "description_width": "initial",
            "_view_module": "@jupyter-widgets/base",
            "_model_module_version": "1.5.0",
            "_view_count": null,
            "_view_module_version": "1.2.0",
            "bar_color": null,
            "_model_module": "@jupyter-widgets/controls"
          }
        },
        "b4aeb575d6e64a8a91c6b5c6a3d3180d": {
          "model_module": "@jupyter-widgets/base",
          "model_name": "LayoutModel",
          "state": {
            "_view_name": "LayoutView",
            "grid_template_rows": null,
            "right": null,
            "justify_content": null,
            "_view_module": "@jupyter-widgets/base",
            "overflow": null,
            "_model_module_version": "1.2.0",
            "_view_count": null,
            "flex_flow": null,
            "width": null,
            "min_width": null,
            "border": null,
            "align_items": null,
            "bottom": null,
            "_model_module": "@jupyter-widgets/base",
            "top": null,
            "grid_column": null,
            "overflow_y": null,
            "overflow_x": null,
            "grid_auto_flow": null,
            "grid_area": null,
            "grid_template_columns": null,
            "flex": null,
            "_model_name": "LayoutModel",
            "justify_items": null,
            "grid_row": null,
            "max_height": null,
            "align_content": null,
            "visibility": null,
            "align_self": null,
            "height": null,
            "min_height": null,
            "padding": null,
            "grid_auto_rows": null,
            "grid_gap": null,
            "max_width": null,
            "order": null,
            "_view_module_version": "1.2.0",
            "grid_template_areas": null,
            "object_position": null,
            "object_fit": null,
            "grid_auto_columns": null,
            "margin": null,
            "display": null,
            "left": null
          }
        },
        "ff049abf4be24295bb0097635d48092c": {
          "model_module": "@jupyter-widgets/controls",
          "model_name": "DescriptionStyleModel",
          "state": {
            "_view_name": "StyleView",
            "_model_name": "DescriptionStyleModel",
            "description_width": "",
            "_view_module": "@jupyter-widgets/base",
            "_model_module_version": "1.5.0",
            "_view_count": null,
            "_view_module_version": "1.2.0",
            "_model_module": "@jupyter-widgets/controls"
          }
        },
        "0b9b74aae75840d8bb7864db45150bd1": {
          "model_module": "@jupyter-widgets/base",
          "model_name": "LayoutModel",
          "state": {
            "_view_name": "LayoutView",
            "grid_template_rows": null,
            "right": null,
            "justify_content": null,
            "_view_module": "@jupyter-widgets/base",
            "overflow": null,
            "_model_module_version": "1.2.0",
            "_view_count": null,
            "flex_flow": null,
            "width": null,
            "min_width": null,
            "border": null,
            "align_items": null,
            "bottom": null,
            "_model_module": "@jupyter-widgets/base",
            "top": null,
            "grid_column": null,
            "overflow_y": null,
            "overflow_x": null,
            "grid_auto_flow": null,
            "grid_area": null,
            "grid_template_columns": null,
            "flex": null,
            "_model_name": "LayoutModel",
            "justify_items": null,
            "grid_row": null,
            "max_height": null,
            "align_content": null,
            "visibility": null,
            "align_self": null,
            "height": null,
            "min_height": null,
            "padding": null,
            "grid_auto_rows": null,
            "grid_gap": null,
            "max_width": null,
            "order": null,
            "_view_module_version": "1.2.0",
            "grid_template_areas": null,
            "object_position": null,
            "object_fit": null,
            "grid_auto_columns": null,
            "margin": null,
            "display": null,
            "left": null
          }
        }
      }
    }
  },
  "cells": [
    {
      "cell_type": "markdown",
      "metadata": {
        "id": "UesLq2Mod_xF"
      },
      "source": [
        "# **Example of Convolutional Neural Networks with Pytorch**\n",
        "From the book Deep Learning with Pytorch, chapter 8\n",
        "\n",
        "In order to run this example more quickly in Google Colab, you must activate the GPU, by choosing Runtime -> Change runtime type -> GPU"
      ]
    },
    {
      "cell_type": "markdown",
      "metadata": {
        "id": "LcvLzoILeVGA"
      },
      "source": [
        "\n",
        "Load the matplotlib library and set the graphics to be plotted within the Jupyter notebook\n",
        "\n",
        "Also load the PyTorch library, and fix the random seed to ensure the reproducibility of the results"
      ]
    },
    {
      "cell_type": "code",
      "metadata": {
        "id": "oVA-sS5xd6ra",
        "outputId": "77ae97ed-da48-446c-d906-9c7b77cf39cd",
        "colab": {
          "base_uri": "https://localhost:8080/",
          "height": 34
        }
      },
      "source": [
        "%matplotlib inline\n",
        "from matplotlib import pyplot as plt\n",
        "import numpy as np\n",
        "import collections\n",
        "\n",
        "import torch\n",
        "import torch.nn as nn\n",
        "import torch.nn.functional as F\n",
        "import torch.optim as optim\n",
        "\n",
        "torch.set_printoptions(edgeitems=2)\n",
        "torch.manual_seed(123)"
      ],
      "execution_count": null,
      "outputs": [
        {
          "output_type": "execute_result",
          "data": {
            "text/plain": [
              "<torch._C.Generator at 0x7f9aa07d85a0>"
            ]
          },
          "metadata": {
            "tags": []
          },
          "execution_count": 2
        }
      ]
    },
    {
      "cell_type": "markdown",
      "metadata": {
        "id": "tleFbSpgfZzF"
      },
      "source": [
        "Establish the 10 classes that are available in the CIFAR10 dataset, see https://www.cs.toronto.edu/~kriz/cifar.html"
      ]
    },
    {
      "cell_type": "code",
      "metadata": {
        "id": "ZhQpLYJYd6re"
      },
      "source": [
        "class_names = ['airplane','automobile','bird','cat','deer',\n",
        "               'dog','frog','horse','ship','truck']"
      ],
      "execution_count": null,
      "outputs": []
    },
    {
      "cell_type": "markdown",
      "metadata": {
        "id": "Ireg983Qfp_q"
      },
      "source": [
        "Download the training data for the CIFAR10 dataset, upzip it to the virtual \n",
        "folder ../data-unversioned/p1ch6/ and store it as the `cifar10` variable"
      ]
    },
    {
      "cell_type": "code",
      "metadata": {
        "id": "alkUMvOXd6ri",
        "outputId": "b0320894-09c7-4c78-e846-990a83e5b2fe",
        "colab": {
          "base_uri": "https://localhost:8080/",
          "height": 83,
          "referenced_widgets": [
            "8c74523e74ff4aee85fde72defce04b4",
            "278cd7e8919244b48ea1603ffcf2b6bb",
            "ff026e445375477788fe3a58aed90683",
            "a16517cc7e91445081dad108e7a200af",
            "09cb1851881d4750b4841456f4015f99",
            "b4aeb575d6e64a8a91c6b5c6a3d3180d",
            "ff049abf4be24295bb0097635d48092c",
            "0b9b74aae75840d8bb7864db45150bd1"
          ]
        }
      },
      "source": [
        "from torchvision import datasets, transforms\n",
        "data_path = '../data-unversioned/p1ch6/'\n",
        "cifar10 = datasets.CIFAR10(\n",
        "    data_path, train=True, download=True,\n",
        "    transform=transforms.Compose([\n",
        "        transforms.ToTensor(),\n",
        "        transforms.Normalize((0.4915, 0.4823, 0.4468),\n",
        "                             (0.2470, 0.2435, 0.2616))\n",
        "    ]))"
      ],
      "execution_count": null,
      "outputs": [
        {
          "output_type": "stream",
          "text": [
            "Downloading https://www.cs.toronto.edu/~kriz/cifar-10-python.tar.gz to ../data-unversioned/p1ch6/cifar-10-python.tar.gz\n"
          ],
          "name": "stdout"
        },
        {
          "output_type": "display_data",
          "data": {
            "application/vnd.jupyter.widget-view+json": {
              "model_id": "8c74523e74ff4aee85fde72defce04b4",
              "version_minor": 0,
              "version_major": 2
            },
            "text/plain": [
              "HBox(children=(FloatProgress(value=1.0, bar_style='info', max=1.0), HTML(value='')))"
            ]
          },
          "metadata": {
            "tags": []
          }
        },
        {
          "output_type": "stream",
          "text": [
            "Extracting ../data-unversioned/p1ch6/cifar-10-python.tar.gz to ../data-unversioned/p1ch6/\n"
          ],
          "name": "stdout"
        }
      ]
    },
    {
      "cell_type": "markdown",
      "metadata": {
        "id": "H59KggYXgXDl"
      },
      "source": [
        "Download the validation data for the CIFAR10 dataset, upzip it to the virtual \n",
        "folder ../data-unversioned/p1ch6/ and store it as the `cifar10_val` variable"
      ]
    },
    {
      "cell_type": "code",
      "metadata": {
        "id": "ld-Qegk6d6rl",
        "outputId": "35ea3e50-ebcc-47f2-e8d5-f3e1de51655a",
        "colab": {
          "base_uri": "https://localhost:8080/",
          "height": 34
        }
      },
      "source": [
        "cifar10_val = datasets.CIFAR10(\n",
        "    data_path, train=False, download=True,\n",
        "    transform=transforms.Compose([\n",
        "        transforms.ToTensor(),\n",
        "        transforms.Normalize((0.4915, 0.4823, 0.4468),\n",
        "                             (0.2470, 0.2435, 0.2616))\n",
        "    ]))"
      ],
      "execution_count": null,
      "outputs": [
        {
          "output_type": "stream",
          "text": [
            "Files already downloaded and verified\n"
          ],
          "name": "stdout"
        }
      ]
    },
    {
      "cell_type": "markdown",
      "metadata": {
        "id": "JTi0SOX4gri6"
      },
      "source": [
        "Select the classes that the CNN will classify, namely the airplane (index 0) and bird (index 2) classes\n",
        "\n",
        "Then extract a subset of the full training CIFAR10 dataset which contains the training samples of those two classes into the `cifar2` variable, and a subset of the full validation CIFAR10 dataset with the validation samples of these two classes into the `cifar2_val` variable"
      ]
    },
    {
      "cell_type": "code",
      "metadata": {
        "id": "Qpqc4xl2d6ro",
        "outputId": "e3790c8e-145b-4e57-9957-cdf3e23b7b98",
        "colab": {
          "base_uri": "https://localhost:8080/",
          "height": 34
        }
      },
      "source": [
        "label_map = {0: 0, 2: 1}\n",
        "class_names = ['airplane', 'bird']\n",
        "cifar2 = [(img, label_map[label])\n",
        "          for img, label in cifar10\n",
        "          if label in [0, 2]]\n",
        "cifar2_val = [(img, label_map[label])\n",
        "              for img, label in cifar10_val\n",
        "              if label in [0, 2]]"
      ],
      "execution_count": null,
      "outputs": [
        {
          "output_type": "stream",
          "text": [
            "\n"
          ],
          "name": "stdout"
        }
      ]
    },
    {
      "cell_type": "markdown",
      "metadata": {
        "id": "1IxxfxrkhqT0"
      },
      "source": [
        "Create a fully connected model with four linear layers and three hyperbolic tangent layers"
      ]
    },
    {
      "cell_type": "code",
      "metadata": {
        "id": "rpfdDZNCd6rr"
      },
      "source": [
        "connected_model = nn.Sequential(\n",
        "            nn.Linear(3072, 1024),\n",
        "            nn.Tanh(),\n",
        "            nn.Linear(1024, 512),\n",
        "            nn.Tanh(),\n",
        "            nn.Linear(512, 128),\n",
        "            nn.Tanh(),\n",
        "            nn.Linear(128, 2))"
      ],
      "execution_count": null,
      "outputs": []
    },
    {
      "cell_type": "markdown",
      "metadata": {
        "id": "puINVGEYhxGK"
      },
      "source": [
        "Print out the overall number of parameters of the fully connected model, and the number of parameters per layer"
      ]
    },
    {
      "cell_type": "code",
      "metadata": {
        "id": "dhPGov2Ad6ru",
        "outputId": "9ebc04ca-1838-470b-c430-4ac8e4369378",
        "colab": {
          "base_uri": "https://localhost:8080/",
          "height": 34
        }
      },
      "source": [
        "numel_list = [p.numel()\n",
        "              for p in connected_model.parameters()\n",
        "              if p.requires_grad == True]\n",
        "sum(numel_list), numel_list"
      ],
      "execution_count": null,
      "outputs": [
        {
          "output_type": "execute_result",
          "data": {
            "text/plain": [
              "(3737474, [3145728, 1024, 524288, 512, 65536, 128, 256, 2])"
            ]
          },
          "metadata": {
            "tags": []
          },
          "execution_count": 8
        }
      ]
    },
    {
      "cell_type": "markdown",
      "metadata": {
        "id": "GjZblGmjiGKH"
      },
      "source": [
        "Create a `first_model` model with two linear layers, a hyperbolic tangent layer, and a soft max layer at the end to yield the classification result"
      ]
    },
    {
      "cell_type": "code",
      "metadata": {
        "id": "usAY777md6ry"
      },
      "source": [
        "first_model = nn.Sequential(\n",
        "                nn.Linear(3072, 512),\n",
        "                nn.Tanh(),\n",
        "                nn.Linear(512, 2),\n",
        "                nn.LogSoftmax(dim=1))"
      ],
      "execution_count": null,
      "outputs": []
    },
    {
      "cell_type": "markdown",
      "metadata": {
        "id": "yktLmOZviQws"
      },
      "source": [
        "Print out the overall number of parameters of the `first_model` model, and the number of parameters per layer"
      ]
    },
    {
      "cell_type": "code",
      "metadata": {
        "id": "XvotVLgbd6r1",
        "outputId": "9293d865-f282-4664-9c96-efdbdd8df894",
        "colab": {
          "base_uri": "https://localhost:8080/",
          "height": 34
        }
      },
      "source": [
        "numel_list = [p.numel() for p in first_model.parameters()]\n",
        "sum(numel_list), numel_list"
      ],
      "execution_count": null,
      "outputs": [
        {
          "output_type": "execute_result",
          "data": {
            "text/plain": [
              "(1574402, [1572864, 512, 1024, 2])"
            ]
          },
          "metadata": {
            "tags": []
          },
          "execution_count": 10
        }
      ]
    },
    {
      "cell_type": "markdown",
      "metadata": {
        "id": "7pIl7y__jmoP"
      },
      "source": [
        "Create a linear layer with 3072 input features and 1024 output features\n",
        "\n",
        "Then print out the number of synaptic weights and the number of biases of the linear layer"
      ]
    },
    {
      "cell_type": "code",
      "metadata": {
        "id": "6X3TN7SVd6r3",
        "outputId": "a5f59686-580e-471c-81fa-23260cd46f21",
        "colab": {
          "base_uri": "https://localhost:8080/",
          "height": 34
        }
      },
      "source": [
        "linear = nn.Linear(3072, 1024)\n",
        "\n",
        "linear.weight.shape, linear.bias.shape"
      ],
      "execution_count": null,
      "outputs": [
        {
          "output_type": "execute_result",
          "data": {
            "text/plain": [
              "(torch.Size([1024, 3072]), torch.Size([1024]))"
            ]
          },
          "metadata": {
            "tags": []
          },
          "execution_count": 11
        }
      ]
    },
    {
      "cell_type": "markdown",
      "metadata": {
        "id": "idWY3Ghlj35S"
      },
      "source": [
        "Create a two dimensional convolutional layer with 3 input channels, 16 output channels, and kernel size 3. The stride is left to the default value, which is 1. See page 197 of the book."
      ]
    },
    {
      "cell_type": "code",
      "metadata": {
        "id": "sBKBgHLzd6r5",
        "outputId": "feee6ce4-72be-4cdc-dce9-aa715b56ebd3",
        "colab": {
          "base_uri": "https://localhost:8080/",
          "height": 34
        }
      },
      "source": [
        "conv = nn.Conv2d(3, 16, kernel_size=3) # <1>\n",
        "conv"
      ],
      "execution_count": null,
      "outputs": [
        {
          "output_type": "execute_result",
          "data": {
            "text/plain": [
              "Conv2d(3, 16, kernel_size=(3, 3), stride=(1, 1))"
            ]
          },
          "metadata": {
            "tags": []
          },
          "execution_count": 12
        }
      ]
    },
    {
      "cell_type": "markdown",
      "metadata": {
        "id": "Kb-JEPmukLDz"
      },
      "source": [
        "Print out the number of synaptic weights and the number of biases of the convolutional layer. See page 197 of the book."
      ]
    },
    {
      "cell_type": "code",
      "metadata": {
        "id": "sP5hU2tVd6r7",
        "outputId": "39efd14c-90e3-4a49-89ad-b46d89874a54",
        "colab": {
          "base_uri": "https://localhost:8080/",
          "height": 34
        }
      },
      "source": [
        "conv.weight.shape, conv.bias.shape"
      ],
      "execution_count": null,
      "outputs": [
        {
          "output_type": "execute_result",
          "data": {
            "text/plain": [
              "(torch.Size([16, 3, 3, 3]), torch.Size([16]))"
            ]
          },
          "metadata": {
            "tags": []
          },
          "execution_count": 13
        }
      ]
    },
    {
      "cell_type": "markdown",
      "metadata": {
        "id": "_l5tJkQQkY6D"
      },
      "source": [
        "Extract the first training image (index 0) from the `cifar2` variable to the `img` variable\n",
        "\n",
        "Then apply the convolutional layer to the image and put the result into the `output` variable\n",
        "\n",
        "See page 198 of the book."
      ]
    },
    {
      "cell_type": "code",
      "metadata": {
        "id": "8s-VvX0hd6r9",
        "outputId": "c8e6c83f-7c4c-4fc5-9ad1-17f59d15fe2f",
        "colab": {
          "base_uri": "https://localhost:8080/",
          "height": 34
        }
      },
      "source": [
        "img, _ = cifar2[0]\n",
        "output = conv(img.unsqueeze(0))\n",
        "img.unsqueeze(0).shape, output.shape"
      ],
      "execution_count": null,
      "outputs": [
        {
          "output_type": "execute_result",
          "data": {
            "text/plain": [
              "(torch.Size([1, 3, 32, 32]), torch.Size([1, 16, 30, 30]))"
            ]
          },
          "metadata": {
            "tags": []
          },
          "execution_count": 14
        }
      ]
    },
    {
      "cell_type": "markdown",
      "metadata": {
        "id": "iQD2D-qfky-0"
      },
      "source": [
        "Show the first training image\n",
        "\n",
        "Then show the same image, converted to grayscale\n",
        "\n"
      ]
    },
    {
      "cell_type": "code",
      "metadata": {
        "id": "XaGDFr3-d6r_",
        "outputId": "a6116fd1-03d9-4cd8-b422-1a5ff0a21155",
        "colab": {
          "base_uri": "https://localhost:8080/",
          "height": 532
        }
      },
      "source": [
        "plt.imshow(np.transpose(img,(1, 2, 0)))\n",
        "plt.show()\n",
        "\n",
        "plt.imshow(img.mean(0), cmap='gray')\n",
        "plt.show()"
      ],
      "execution_count": null,
      "outputs": [
        {
          "output_type": "stream",
          "text": [
            "Clipping input data to the valid range for imshow with RGB data ([0..1] for floats or [0..255] for integers).\n"
          ],
          "name": "stderr"
        },
        {
          "output_type": "display_data",
          "data": {
            "image/png": "[encoded data removed]",
            "text/plain": [
              "<Figure size 432x288 with 1 Axes>"
            ]
          },
          "metadata": {
            "tags": [],
            "needs_background": "light"
          }
        },
        {
          "output_type": "display_data",
          "data": {
            "image/png": "[encoded data removed]",
            "text/plain": [
              "<Figure size 432x288 with 1 Axes>"
            ]
          },
          "metadata": {
            "tags": [],
            "needs_background": "light"
          }
        }
      ]
    },
    {
      "cell_type": "code",
      "metadata": {
        "id": "qb9nXv-gq4iT",
        "outputId": "cbcefead-d0bc-458e-e85c-42baea017d17",
        "colab": {
          "base_uri": "https://localhost:8080/",
          "height": 34
        }
      },
      "source": [
        "output[0,0].shape"
      ],
      "execution_count": null,
      "outputs": [
        {
          "output_type": "execute_result",
          "data": {
            "text/plain": [
              "torch.Size([30, 30])"
            ]
          },
          "metadata": {
            "tags": []
          },
          "execution_count": 16
        }
      ]
    },
    {
      "cell_type": "markdown",
      "metadata": {
        "id": "yfhZSR6vqoh1"
      },
      "source": [
        "Show the first channel of the output of the convolutional layer to the left\n",
        "\n",
        "Then show the input (converted to grayscale) to the convolutional layer to the right\n",
        "\n",
        "Please note that the output is two pixels smaller than the input, due to the lack of padding in the convolutional layer\n",
        "\n",
        "See page 198 of the book."
      ]
    },
    {
      "cell_type": "code",
      "metadata": {
        "id": "3k9DDW_id6sB",
        "outputId": "09e62849-204b-4a01-cee5-23a5db2bc46e",
        "colab": {
          "base_uri": "https://localhost:8080/",
          "height": 318
        }
      },
      "source": [
        "plt.figure(figsize=(10, 4.8))  # bookskip\n",
        "ax1 = plt.subplot(1, 2, 1)   # bookskip\n",
        "plt.title('output')   # bookskip\n",
        "plt.imshow(output[0, 0].detach(), cmap='gray')\n",
        "plt.subplot(1, 2, 2, sharex=ax1, sharey=ax1)  # bookskip\n",
        "plt.imshow(img.mean(0), cmap='gray')  # bookskip\n",
        "plt.title('input')  # bookskip\n",
        "plt.savefig('Ch8_F2_PyTorch.png')  # bookskip\n",
        "plt.show()"
      ],
      "execution_count": null,
      "outputs": [
        {
          "output_type": "display_data",
          "data": {
            "image/png": "[encoded data removed]",
            "text/plain": [
              "<Figure size 720x345.6 with 2 Axes>"
            ]
          },
          "metadata": {
            "tags": [],
            "needs_background": "light"
          }
        }
      ]
    },
    {
      "cell_type": "markdown",
      "metadata": {
        "id": "fyPNH2MIA3bH"
      },
      "source": [
        "Create a two dimensional convolutional layer with 3 input channels, 1 output channel, and kernel size 3. The stride is left to the default value, which is 1. The padding is set to 1\n",
        "\n",
        "Then apply the convolutional layer to the fisrt training image, and put the result in the `output` variable. Please note that this time the output is the same size as the input, due to the padding.\n",
        "\n",
        "See page 199 of the book."
      ]
    },
    {
      "cell_type": "code",
      "metadata": {
        "id": "jqBl5pNpd6sD",
        "outputId": "10270e51-332f-4f57-bbbc-59ad9818296f",
        "colab": {
          "base_uri": "https://localhost:8080/",
          "height": 34
        }
      },
      "source": [
        "conv = nn.Conv2d(3, 1, kernel_size=3, padding=1) # <1>\n",
        "output = conv(img.unsqueeze(0))\n",
        "img.unsqueeze(0).shape, output.shape"
      ],
      "execution_count": null,
      "outputs": [
        {
          "output_type": "execute_result",
          "data": {
            "text/plain": [
              "(torch.Size([1, 3, 32, 32]), torch.Size([1, 1, 32, 32]))"
            ]
          },
          "metadata": {
            "tags": []
          },
          "execution_count": 18
        }
      ]
    },
    {
      "cell_type": "markdown",
      "metadata": {
        "id": "oO7Mwzx1BcHB"
      },
      "source": [
        "Set the biases of the convolutional layer to zero. Then set the synaptic weights of the convolutional layer to 1.0/9.0. This corresponds to an averaging convolutional filter of size 3 x 3 pixels. See page 200 of the book."
      ]
    },
    {
      "cell_type": "code",
      "metadata": {
        "id": "wX2hlt2nd6sF"
      },
      "source": [
        "with torch.no_grad():\n",
        "    conv.bias.zero_()\n",
        "    \n",
        "with torch.no_grad():\n",
        "    conv.weight.fill_(1.0 / 9.0)"
      ],
      "execution_count": null,
      "outputs": []
    },
    {
      "cell_type": "markdown",
      "metadata": {
        "id": "N65e83kVAVg6"
      },
      "source": [
        "Plot the output of the convolutional layer to the left and the input to the right. Please note that the output is the same size as the input, due to the padding in the convolutional layer"
      ]
    },
    {
      "cell_type": "code",
      "metadata": {
        "id": "FpAcoslAd6sG",
        "outputId": "2b44a7c4-d912-4912-88ae-b71cc14ee58a",
        "colab": {
          "base_uri": "https://localhost:8080/",
          "height": 318
        }
      },
      "source": [
        "output = conv(img.unsqueeze(0))\n",
        "plt.figure(figsize=(10, 4.8))  # bookskip\n",
        "ax1 = plt.subplot(1, 2, 1)   # bookskip\n",
        "plt.title('output')   # bookskip\n",
        "plt.imshow(output[0, 0].detach(), cmap='gray')\n",
        "plt.subplot(1, 2, 2, sharex=ax1, sharey=ax1)  # bookskip\n",
        "plt.imshow(img.mean(0), cmap='gray')  # bookskip\n",
        "plt.title('input')  # bookskip\n",
        "plt.savefig('Ch8_F4_PyTorch.png')  # bookskip\n",
        "plt.show()"
      ],
      "execution_count": null,
      "outputs": [
        {
          "output_type": "display_data",
          "data": {
            "image/png": "[encoded data removed]",
            "text/plain": [
              "<Figure size 720x345.6 with 2 Axes>"
            ]
          },
          "metadata": {
            "tags": [],
            "needs_background": "light"
          }
        }
      ]
    },
    {
      "cell_type": "markdown",
      "metadata": {
        "id": "2RMhpkuiCCkB"
      },
      "source": [
        "Set the synaptic weights of the convolutional layer to a vertical edge detection filter. The biases are set to zero. See pages 200-201 of the book."
      ]
    },
    {
      "cell_type": "code",
      "metadata": {
        "id": "otS-dFSpd6sJ"
      },
      "source": [
        "conv = nn.Conv2d(3, 1, kernel_size=3, padding=1)\n",
        "\n",
        "with torch.no_grad():\n",
        "    conv.weight[:] = torch.tensor([[-1.0, 0.0, 1.0],\n",
        "                                   [-1.0, 0.0, 1.0],\n",
        "                                   [-1.0, 0.0, 1.0]])\n",
        "    conv.bias.zero_()"
      ],
      "execution_count": null,
      "outputs": []
    },
    {
      "cell_type": "markdown",
      "metadata": {
        "id": "wfTFQAnTDGva"
      },
      "source": [
        "Plot the output of the convolutional layer to the left, and the grayscale version of the input to the right.\n",
        "\n",
        "Please note that the vertical edges are detected by the convolutional layer. They are viewed as very dark or very bright pixels in the output image."
      ]
    },
    {
      "cell_type": "code",
      "metadata": {
        "id": "ZMwHNXTgd6sL",
        "outputId": "7c202815-241f-4342-8cfc-8c61f8a82e2a",
        "colab": {
          "base_uri": "https://localhost:8080/",
          "height": 318
        }
      },
      "source": [
        "output = conv(img.unsqueeze(0))\n",
        "plt.figure(figsize=(10, 4.8))  # bookskip\n",
        "ax1 = plt.subplot(1, 2, 1)   # bookskip\n",
        "plt.title('output')   # bookskip\n",
        "plt.imshow(output[0, 0].detach(), cmap='gray')\n",
        "plt.subplot(1, 2, 2, sharex=ax1, sharey=ax1)  # bookskip\n",
        "plt.imshow(img.mean(0), cmap='gray')  # bookskip\n",
        "plt.title('input')  # bookskip\n",
        "plt.savefig('Ch8_F5_PyTorch.png')  # bookskip\n",
        "plt.show()"
      ],
      "execution_count": null,
      "outputs": [
        {
          "output_type": "display_data",
          "data": {
            "image/png": "[encoded data removed]",
            "text/plain": [
              "<Figure size 720x345.6 with 2 Axes>"
            ]
          },
          "metadata": {
            "tags": [],
            "needs_background": "light"
          }
        }
      ]
    },
    {
      "cell_type": "markdown",
      "metadata": {
        "id": "Ys6kdkx6g3V6"
      },
      "source": [
        "Create a two dimensional max pooling layer `pool` with a pooling window of size 2x2. Then the input image is processed by the `pool` layer. Please note that the output has half the size of the input image, due to the 2x2 pooling. See page 204 of the book."
      ]
    },
    {
      "cell_type": "code",
      "metadata": {
        "id": "4aKPX5_Ed6sM",
        "outputId": "96ccc6de-1b0f-4e62-a2da-60c62ae38297",
        "colab": {
          "base_uri": "https://localhost:8080/",
          "height": 34
        }
      },
      "source": [
        "pool = nn.MaxPool2d(2)\n",
        "output = pool(img.unsqueeze(0))\n",
        "\n",
        "img.unsqueeze(0).shape, output.shape"
      ],
      "execution_count": null,
      "outputs": [
        {
          "output_type": "execute_result",
          "data": {
            "text/plain": [
              "(torch.Size([1, 3, 32, 32]), torch.Size([1, 3, 16, 16]))"
            ]
          },
          "metadata": {
            "tags": []
          },
          "execution_count": 23
        }
      ]
    },
    {
      "cell_type": "markdown",
      "metadata": {
        "id": "Ct73_iFShPbT"
      },
      "source": [
        "Create a model with several layers: first a two dimensional convolutional layer, then a hyperbolic tangent layer, then a two dimensional max pooling layer, and then the same again. Store it into the `model` variable. See page 205 of the book."
      ]
    },
    {
      "cell_type": "code",
      "metadata": {
        "id": "DzIqS4Wsd6sO"
      },
      "source": [
        "model = nn.Sequential(\n",
        "            nn.Conv2d(3, 16, kernel_size=3, padding=1),\n",
        "            nn.Tanh(),\n",
        "            nn.MaxPool2d(2),\n",
        "            nn.Conv2d(16, 8, kernel_size=3, padding=1),\n",
        "            nn.Tanh(),\n",
        "            nn.MaxPool2d(2),\n",
        "            # ...\n",
        "            )"
      ],
      "execution_count": null,
      "outputs": []
    },
    {
      "cell_type": "markdown",
      "metadata": {
        "id": "b-IT3_8ihdYx"
      },
      "source": [
        "Create a model with the same structure as the previous model, but with three additional layers: a linear layer, a hyperbolic tangent layer, and a final linear layer. Store it into the `model` variable. See page 206 of the book.\n",
        "\n",
        "\n",
        "\n"
      ]
    },
    {
      "cell_type": "code",
      "metadata": {
        "id": "kymPYU6bd6sQ"
      },
      "source": [
        "model = nn.Sequential(\n",
        "            nn.Conv2d(3, 16, kernel_size=3, padding=1),\n",
        "            nn.Tanh(),\n",
        "            nn.MaxPool2d(2),\n",
        "            nn.Conv2d(16, 8, kernel_size=3, padding=1),\n",
        "            nn.Tanh(),\n",
        "            nn.MaxPool2d(2),\n",
        "            # ... <1>\n",
        "            nn.Linear(8 * 8 * 8, 32),\n",
        "            nn.Tanh(),\n",
        "            nn.Linear(32, 2))"
      ],
      "execution_count": null,
      "outputs": []
    },
    {
      "cell_type": "markdown",
      "metadata": {
        "id": "r_yEhnprhtbV"
      },
      "source": [
        "Print out the total number of parameter of the model, and the number of parameters per layer."
      ]
    },
    {
      "cell_type": "code",
      "metadata": {
        "id": "slFzfRACd6sR",
        "outputId": "71f4f9cb-6fe3-4a69-818f-ab3e3baa7269",
        "colab": {
          "base_uri": "https://localhost:8080/",
          "height": 34
        }
      },
      "source": [
        "numel_list = [p.numel() for p in model.parameters()]\n",
        "sum(numel_list), numel_list"
      ],
      "execution_count": null,
      "outputs": [
        {
          "output_type": "execute_result",
          "data": {
            "text/plain": [
              "(18090, [432, 16, 1152, 8, 16384, 32, 64, 2])"
            ]
          },
          "metadata": {
            "tags": []
          },
          "execution_count": 26
        }
      ]
    },
    {
      "cell_type": "markdown",
      "metadata": {
        "id": "33Q1PujVibEi"
      },
      "source": [
        "The previous model does not work because we need something to flatten the output of the last max pooling layer to reshape it before the first linear layer. Please see page 207 of the book. If you uncomment the following line, you will get an error when you try to process an input image with the model."
      ]
    },
    {
      "cell_type": "code",
      "metadata": {
        "scrolled": true,
        "tags": [
          "raises-exception"
        ],
        "id": "0bw8X1RQd6sU"
      },
      "source": [
        "#model(img.unsqueeze(0))"
      ],
      "execution_count": null,
      "outputs": []
    },
    {
      "cell_type": "markdown",
      "metadata": {
        "id": "aVkmE5baizgT"
      },
      "source": [
        "Next, a subclass of the `nn.Module` class is defined. In order to do so, the constructor of the class (`__init__`) and the `forward` method are defined. This is the minimum necessary methods that must be defined (see pages 207-208 of the book). The reshape that was necessary earlier is done by the following line:\n",
        "\n",
        "`out = out.view(-1, 8 * 8 * 8)`"
      ]
    },
    {
      "cell_type": "code",
      "metadata": {
        "id": "h2RNeaymd6sV"
      },
      "source": [
        "class Net(nn.Module):\n",
        "    def __init__(self):\n",
        "        super().__init__()\n",
        "        self.conv1 = nn.Conv2d(3, 16, kernel_size=3, padding=1)\n",
        "        self.act1 = nn.Tanh()\n",
        "        self.pool1 = nn.MaxPool2d(2)\n",
        "        self.conv2 = nn.Conv2d(16, 8, kernel_size=3, padding=1)\n",
        "        self.act2 = nn.Tanh()\n",
        "        self.pool2 = nn.MaxPool2d(2)\n",
        "        self.fc1 = nn.Linear(8 * 8 * 8, 32)\n",
        "        self.act3 = nn.Tanh()\n",
        "        self.fc2 = nn.Linear(32, 2)\n",
        "\n",
        "    def forward(self, x):\n",
        "        out = self.pool1(self.act1(self.conv1(x)))\n",
        "        out = self.pool2(self.act2(self.conv2(out)))\n",
        "        out = out.view(-1, 8 * 8 * 8) # <1>\n",
        "        out = self.act3(self.fc1(out))\n",
        "        out = self.fc2(out)\n",
        "        return out"
      ],
      "execution_count": null,
      "outputs": []
    },
    {
      "cell_type": "markdown",
      "metadata": {
        "id": "NSYyw_jsmRUr"
      },
      "source": [
        "Create an instance of the `Net` subclass of the `nn.Module` class, and store the instance into the `model` variable. \n",
        "\n",
        "Print out the overall number of parameters of `model`, and the number of parameters of each of its layers.\n",
        "\n",
        "See page 210 of the book."
      ]
    },
    {
      "cell_type": "code",
      "metadata": {
        "id": "tyLSy_ORd6sX",
        "outputId": "1d48549f-92af-47f7-f3b2-11b4b9f2c56b",
        "colab": {
          "base_uri": "https://localhost:8080/",
          "height": 34
        }
      },
      "source": [
        "model = Net()\n",
        "\n",
        "numel_list = [p.numel() for p in model.parameters()]\n",
        "sum(numel_list), numel_list"
      ],
      "execution_count": null,
      "outputs": [
        {
          "output_type": "execute_result",
          "data": {
            "text/plain": [
              "(18090, [432, 16, 1152, 8, 16384, 32, 64, 2])"
            ]
          },
          "metadata": {
            "tags": []
          },
          "execution_count": 29
        }
      ]
    },
    {
      "cell_type": "markdown",
      "metadata": {
        "id": "EyYZ4MZsm-4D"
      },
      "source": [
        "Create a new version of the `Net` subclass of the `nn.Module` class. This time, the functional versions of the hyperbolic tangent layer (`torch.tanh`) and the two dimensional max pooling layer (`F.max_pool2d`) are employed. This is possible because the hyperbolic tangent and max pooling layers have no parameters.\n",
        "\n",
        "See pages 210-211 of the book."
      ]
    },
    {
      "cell_type": "code",
      "metadata": {
        "id": "WQ-xMFivd6sZ"
      },
      "source": [
        "import torch.nn.functional as F\n",
        "\n",
        "class Net(nn.Module):\n",
        "    def __init__(self):\n",
        "        super().__init__()\n",
        "        self.conv1 = nn.Conv2d(3, 16, kernel_size=3, padding=1)\n",
        "        self.conv2 = nn.Conv2d(16, 8, kernel_size=3, padding=1)\n",
        "        self.fc1 = nn.Linear(8 * 8 * 8, 32)\n",
        "        self.fc2 = nn.Linear(32, 2)\n",
        "        \n",
        "    def forward(self, x):\n",
        "        out = F.max_pool2d(torch.tanh(self.conv1(x)), 2)\n",
        "        out = F.max_pool2d(torch.tanh(self.conv2(out)), 2)\n",
        "        out = out.view(-1, 8 * 8 * 8)\n",
        "        out = torch.tanh(self.fc1(out))\n",
        "        out = self.fc2(out)\n",
        "        return out"
      ],
      "execution_count": null,
      "outputs": []
    },
    {
      "cell_type": "markdown",
      "metadata": {
        "id": "-XvHE-Ymn8U7"
      },
      "source": [
        "Process the input image with the current version of the model. The model processes the image correctly and outputs a vector with two real numbers, which represent the scores of the two classes. See pages 211-212 of the book."
      ]
    },
    {
      "cell_type": "code",
      "metadata": {
        "id": "MW1CdMhyd6sb",
        "outputId": "16b2f7db-4835-4f1c-d56f-6c21ec3a98a2",
        "colab": {
          "base_uri": "https://localhost:8080/",
          "height": 34
        }
      },
      "source": [
        "model = Net()\n",
        "model(img.unsqueeze(0))"
      ],
      "execution_count": null,
      "outputs": [
        {
          "output_type": "execute_result",
          "data": {
            "text/plain": [
              "tensor([[-0.0157,  0.1143]], grad_fn=<AddmmBackward>)"
            ]
          },
          "metadata": {
            "tags": []
          },
          "execution_count": 31
        }
      ]
    },
    {
      "cell_type": "markdown",
      "metadata": {
        "id": "19YtAsXIKyGM"
      },
      "source": [
        "Define a standalone function that implements a training loop for the previously defined model. It receives as arguments the number of epochs, the optimizer, the model, the loss function, and the loader of the training images (inputs) and training labels (outputs). See page 212 of the book.\n",
        "\n",
        "The progress of the training is printed out. The average loss per training sample is printed."
      ]
    },
    {
      "cell_type": "code",
      "metadata": {
        "id": "Uex-GXI1d6sc"
      },
      "source": [
        "import datetime  # <1>\n",
        "\n",
        "def training_loop(n_epochs, optimizer, model, loss_fn, train_loader):\n",
        "    for epoch in range(1, n_epochs + 1):  # <2>\n",
        "        loss_train = 0.0\n",
        "        for imgs, labels in train_loader:  # <3>\n",
        "            \n",
        "            outputs = model(imgs)  # <4>\n",
        "            \n",
        "            loss = loss_fn(outputs, labels)  # <5>\n",
        "\n",
        "            optimizer.zero_grad()  # <6>\n",
        "            \n",
        "            loss.backward()  # <7>\n",
        "            \n",
        "            optimizer.step()  # <8>\n",
        "\n",
        "            loss_train += loss.item()  # <9>\n",
        "\n",
        "        if epoch == 1 or epoch % 10 == 0:\n",
        "            print('{} Epoch {}, Training loss {}'.format(\n",
        "                datetime.datetime.now(), epoch,\n",
        "                loss_train / len(train_loader)))  # <10>"
      ],
      "execution_count": null,
      "outputs": []
    },
    {
      "cell_type": "markdown",
      "metadata": {
        "id": "eWdij80hL9z4"
      },
      "source": [
        "Create a data loader for the training samples associated to the `cifar2` variable. Then create an instance of our custom defined model. After that, create a optimizer based on stochastic gradient descent (SGD), and a cross-entropy loss function. Cross entropy is adequate for classification problems, including multiclass classification. Binary entropy can be employed for binary classification only.\n",
        "\n",
        "Finally, execute the training by calling the `training_loop` function. See page 213 of the book."
      ]
    },
    {
      "cell_type": "code",
      "metadata": {
        "id": "876mZoHod6se",
        "outputId": "c76955ce-7078-46e3-da49-00bb71768542",
        "colab": {
          "base_uri": "https://localhost:8080/",
          "height": 204
        }
      },
      "source": [
        "train_loader = torch.utils.data.DataLoader(cifar2, batch_size=64,\n",
        "                                           shuffle=True)  # <1>\n",
        "\n",
        "model = Net()  #  <2>\n",
        "optimizer = optim.SGD(model.parameters(), lr=1e-2)  #  <3>\n",
        "loss_fn = nn.CrossEntropyLoss()  #  <4>\n",
        "\n",
        "training_loop(  # <5>\n",
        "    n_epochs = 100,\n",
        "    optimizer = optimizer,\n",
        "    model = model,\n",
        "    loss_fn = loss_fn,\n",
        "    train_loader = train_loader,\n",
        ")"
      ],
      "execution_count": null,
      "outputs": [
        {
          "output_type": "stream",
          "text": [
            "2020-10-03 17:55:27.078881 Epoch 1, Training loss 0.5634812323530768\n",
            "2020-10-03 17:56:00.103509 Epoch 10, Training loss 0.3277595060266507\n",
            "2020-10-03 17:56:37.087113 Epoch 20, Training loss 0.3035030489324764\n",
            "2020-10-03 17:57:13.835663 Epoch 30, Training loss 0.2824554865717129\n",
            "2020-10-03 17:57:50.599682 Epoch 40, Training loss 0.261043845468266\n",
            "2020-10-03 17:58:26.998810 Epoch 50, Training loss 0.24096738822331096\n",
            "2020-10-03 17:59:03.601568 Epoch 60, Training loss 0.21990723030012885\n",
            "2020-10-03 17:59:42.002751 Epoch 70, Training loss 0.20366100905237683\n",
            "2020-10-03 18:00:21.502142 Epoch 80, Training loss 0.18935413122366948\n",
            "2020-10-03 18:01:00.062262 Epoch 90, Training loss 0.17276086364012616\n",
            "2020-10-03 18:01:38.761341 Epoch 100, Training loss 0.1613998900932871\n"
          ],
          "name": "stdout"
        }
      ]
    },
    {
      "cell_type": "markdown",
      "metadata": {
        "id": "08_HKggpNsUE"
      },
      "source": [
        "Next we are going to measure the accuracy of the trained classifier on the training and validation sets. See page 214 of the book.\n",
        "\n",
        "First, a data loader for the training set `train_loader` and another data loader for the validation set `val_loader` are created.\n",
        "\n",
        "The `validate` function is defined to count the number of correct and incorrect classifications, computed over the training and validation sets. Then the accuracies are printed out.\n",
        "\n",
        "Finally, the `validate` function is executed to compute the accuracies."
      ]
    },
    {
      "cell_type": "code",
      "metadata": {
        "id": "2E8iOj42d6sg",
        "outputId": "5b92bfd6-180a-4bec-fd1e-b87f9c7c7285",
        "colab": {
          "base_uri": "https://localhost:8080/",
          "height": 51
        }
      },
      "source": [
        "train_loader = torch.utils.data.DataLoader(cifar2, batch_size=64,\n",
        "                                           shuffle=False)\n",
        "val_loader = torch.utils.data.DataLoader(cifar2_val, batch_size=64,\n",
        "                                         shuffle=False)\n",
        "\n",
        "def validate(model, train_loader, val_loader):\n",
        "    for name, loader in [(\"train\", train_loader), (\"val\", val_loader)]:\n",
        "        correct = 0\n",
        "        total = 0\n",
        "\n",
        "        with torch.no_grad():  # <1>\n",
        "            for imgs, labels in loader:\n",
        "                outputs = model(imgs)\n",
        "                _, predicted = torch.max(outputs, dim=1) # <2>\n",
        "                total += labels.shape[0]  # <3>\n",
        "                correct += int((predicted == labels).sum())  # <4>\n",
        "\n",
        "        print(\"Accuracy {}: {:.2f}\".format(name , correct / total))\n",
        "\n",
        "validate(model, train_loader, val_loader)"
      ],
      "execution_count": null,
      "outputs": [
        {
          "output_type": "stream",
          "text": [
            "Accuracy train: 0.93\n",
            "Accuracy val: 0.89\n"
          ],
          "name": "stdout"
        }
      ]
    },
    {
      "cell_type": "markdown",
      "metadata": {
        "id": "zjlPctezOd3S"
      },
      "source": [
        "The trained model is saved to a file. See page 214 of the book."
      ]
    },
    {
      "cell_type": "code",
      "metadata": {
        "id": "5hUFSZcYd6sh"
      },
      "source": [
        "torch.save(model.state_dict(), data_path + 'birds_vs_airplanes.pt')"
      ],
      "execution_count": null,
      "outputs": []
    },
    {
      "cell_type": "markdown",
      "metadata": {
        "id": "h1h5k5KlOnvy"
      },
      "source": [
        "Next the saved model is loaded. See page 215 of the book."
      ]
    },
    {
      "cell_type": "code",
      "metadata": {
        "id": "EFd554zod6sm",
        "outputId": "3d8b44a8-9f4c-4496-a423-af63eae65305",
        "colab": {
          "base_uri": "https://localhost:8080/",
          "height": 34
        }
      },
      "source": [
        "loaded_model = Net()  # <1>\n",
        "loaded_model.load_state_dict(torch.load(data_path\n",
        "                                        + 'birds_vs_airplanes.pt'))"
      ],
      "execution_count": null,
      "outputs": [
        {
          "output_type": "execute_result",
          "data": {
            "text/plain": [
              "<All keys matched successfully>"
            ]
          },
          "metadata": {
            "tags": []
          },
          "execution_count": 36
        }
      ]
    },
    {
      "cell_type": "markdown",
      "metadata": {
        "id": "ZZxqgQ2OOxS2"
      },
      "source": [
        "Check out whether the training is done on the CPU or the GPU. See page 215 of the book."
      ]
    },
    {
      "cell_type": "code",
      "metadata": {
        "id": "4rlaKVWvd6sn",
        "outputId": "d232cd38-1a47-47de-bf26-f30a1faca639",
        "colab": {
          "base_uri": "https://localhost:8080/",
          "height": 34
        }
      },
      "source": [
        "device = (torch.device('cuda') if torch.cuda.is_available()\n",
        "          else torch.device('cpu'))\n",
        "print(f\"Training on device {device}.\")"
      ],
      "execution_count": null,
      "outputs": [
        {
          "output_type": "stream",
          "text": [
            "Training on device cuda.\n"
          ],
          "name": "stdout"
        }
      ]
    },
    {
      "cell_type": "markdown",
      "metadata": {
        "id": "kXAOXh3fPF2s"
      },
      "source": [
        "Redefine the `training_loop` function so that the data are moved to the GPU if one is available. See page 215 of the book."
      ]
    },
    {
      "cell_type": "code",
      "metadata": {
        "id": "6HMrWUMNd6sp"
      },
      "source": [
        "import datetime\n",
        "\n",
        "def training_loop(n_epochs, optimizer, model, loss_fn, train_loader):\n",
        "    for epoch in range(1, n_epochs + 1):\n",
        "        loss_train = 0.0\n",
        "        for imgs, labels in train_loader:\n",
        "            imgs = imgs.to(device=device)  # <1>\n",
        "            labels = labels.to(device=device)\n",
        "            outputs = model(imgs)\n",
        "            loss = loss_fn(outputs, labels)\n",
        "\n",
        "            optimizer.zero_grad()\n",
        "            loss.backward()\n",
        "            optimizer.step()\n",
        "\n",
        "            loss_train += loss.item()\n",
        "\n",
        "        if epoch == 1 or epoch % 10 == 0:\n",
        "            print('{} Epoch {}, Training loss {}'.format(\n",
        "                datetime.datetime.now(), epoch,\n",
        "                loss_train / len(train_loader)))"
      ],
      "execution_count": null,
      "outputs": []
    },
    {
      "cell_type": "markdown",
      "metadata": {
        "id": "wTncT-ncPd9f"
      },
      "source": [
        "Execute the training again, this time with the data on the GPU if available. If a GPU is available, the training should be faster than before. See page 216 of the book."
      ]
    },
    {
      "cell_type": "code",
      "metadata": {
        "id": "uZnvW14md6sq",
        "outputId": "28c6ac2e-1bc6-4f2e-9cad-a837f8f17304",
        "colab": {
          "base_uri": "https://localhost:8080/",
          "height": 204
        }
      },
      "source": [
        "train_loader = torch.utils.data.DataLoader(cifar2, batch_size=64,\n",
        "                                           shuffle=True)\n",
        "\n",
        "model = Net().to(device=device)  # <1>\n",
        "optimizer = optim.SGD(model.parameters(), lr=1e-2)\n",
        "loss_fn = nn.CrossEntropyLoss()\n",
        "\n",
        "training_loop(\n",
        "    n_epochs = 100,\n",
        "    optimizer = optimizer,\n",
        "    model = model,\n",
        "    loss_fn = loss_fn,\n",
        "    train_loader = train_loader,\n",
        ")"
      ],
      "execution_count": null,
      "outputs": [
        {
          "output_type": "stream",
          "text": [
            "2020-10-03 18:01:52.450758 Epoch 1, Training loss 0.5717794697755462\n",
            "2020-10-03 18:01:55.928444 Epoch 10, Training loss 0.32852893906414127\n",
            "2020-10-03 18:01:59.649477 Epoch 20, Training loss 0.29495166365508063\n",
            "2020-10-03 18:02:03.231366 Epoch 30, Training loss 0.2696891484936331\n",
            "2020-10-03 18:02:06.955153 Epoch 40, Training loss 0.24715986933298173\n",
            "2020-10-03 18:02:10.640782 Epoch 50, Training loss 0.22627683733678927\n",
            "2020-10-03 18:02:14.395084 Epoch 60, Training loss 0.20998757788140304\n",
            "2020-10-03 18:02:18.122614 Epoch 70, Training loss 0.1935278656566219\n",
            "2020-10-03 18:02:21.741315 Epoch 80, Training loss 0.17991850624798209\n",
            "2020-10-03 18:02:25.358279 Epoch 90, Training loss 0.16617709111161294\n",
            "2020-10-03 18:02:28.984232 Epoch 100, Training loss 0.1566371135176367\n"
          ],
          "name": "stdout"
        }
      ]
    },
    {
      "cell_type": "markdown",
      "metadata": {
        "id": "Q96aRVDCP3I2"
      },
      "source": [
        "Redefine the `validate` function so that the data are moved to the GPU, if available."
      ]
    },
    {
      "cell_type": "code",
      "metadata": {
        "id": "sGIb2u-md6ss",
        "outputId": "a369fece-96fa-4ec9-9efd-a87038dab8eb",
        "colab": {
          "base_uri": "https://localhost:8080/",
          "height": 51
        }
      },
      "source": [
        "train_loader = torch.utils.data.DataLoader(cifar2, batch_size=64,\n",
        "                                           shuffle=False)\n",
        "val_loader = torch.utils.data.DataLoader(cifar2_val, batch_size=64,\n",
        "                                         shuffle=False)\n",
        "all_acc_dict = collections.OrderedDict()\n",
        "\n",
        "def validate(model, train_loader, val_loader):\n",
        "    accdict = {}\n",
        "    for name, loader in [(\"train\", train_loader), (\"val\", val_loader)]:\n",
        "        correct = 0\n",
        "        total = 0\n",
        "\n",
        "        with torch.no_grad():\n",
        "            for imgs, labels in loader:\n",
        "                imgs = imgs.to(device=device)\n",
        "                labels = labels.to(device=device)\n",
        "                outputs = model(imgs)\n",
        "                _, predicted = torch.max(outputs, dim=1) # <1>\n",
        "                total += labels.shape[0]\n",
        "                correct += int((predicted == labels).sum())\n",
        "\n",
        "        print(\"Accuracy {}: {:.2f}\".format(name , correct / total))\n",
        "        accdict[name] = correct / total\n",
        "    return accdict\n",
        "\n",
        "all_acc_dict[\"baseline\"] = validate(model, train_loader, val_loader)"
      ],
      "execution_count": null,
      "outputs": [
        {
          "output_type": "stream",
          "text": [
            "Accuracy train: 0.93\n",
            "Accuracy val: 0.89\n"
          ],
          "name": "stdout"
        }
      ]
    },
    {
      "cell_type": "markdown",
      "metadata": {
        "id": "XD-pxueNQGbL"
      },
      "source": [
        "Load a saved model to the GPU. PyTorch is explicitly instructed to load the model to the GPU, even if the model was saved from the CPU. See page 217 of the book."
      ]
    },
    {
      "cell_type": "code",
      "metadata": {
        "id": "Ol-o0MXrd6su",
        "outputId": "e9cddb0d-828c-4a8c-b465-b7e69894306e",
        "colab": {
          "base_uri": "https://localhost:8080/",
          "height": 34
        }
      },
      "source": [
        "loaded_model = Net().to(device=device)\n",
        "loaded_model.load_state_dict(torch.load(data_path\n",
        "                                        + 'birds_vs_airplanes.pt',\n",
        "                                        map_location=device))"
      ],
      "execution_count": null,
      "outputs": [
        {
          "output_type": "execute_result",
          "data": {
            "text/plain": [
              "<All keys matched successfully>"
            ]
          },
          "metadata": {
            "tags": []
          },
          "execution_count": 41
        }
      ]
    },
    {
      "cell_type": "markdown",
      "metadata": {
        "id": "5wZPy61JTIKv"
      },
      "source": [
        "Create a new sublass NetWidth of the nn.Module class which defines a model with more channels coming from the first convolution. See page 218 of the book."
      ]
    },
    {
      "cell_type": "code",
      "metadata": {
        "id": "kaHjDRkzd6sv"
      },
      "source": [
        "class NetWidth(nn.Module):\n",
        "    def __init__(self):\n",
        "        super().__init__()\n",
        "        self.conv1 = nn.Conv2d(3, 32, kernel_size=3, padding=1)\n",
        "        self.conv2 = nn.Conv2d(32, 16, kernel_size=3, padding=1)\n",
        "        self.fc1 = nn.Linear(16 * 8 * 8, 32)\n",
        "        self.fc2 = nn.Linear(32, 2)\n",
        "        \n",
        "    def forward(self, x):\n",
        "        out = F.max_pool2d(torch.tanh(self.conv1(x)), 2)\n",
        "        out = F.max_pool2d(torch.tanh(self.conv2(out)), 2)\n",
        "        out = out.view(-1, 16 * 8 * 8)\n",
        "        out = torch.tanh(self.fc1(out))\n",
        "        out = self.fc2(out)\n",
        "        return out"
      ],
      "execution_count": null,
      "outputs": []
    },
    {
      "cell_type": "markdown",
      "metadata": {
        "id": "9KR9iYyOTYKO"
      },
      "source": [
        "Train the newly defined model."
      ]
    },
    {
      "cell_type": "code",
      "metadata": {
        "id": "RTmwKN7fd6sx",
        "outputId": "d3bf9e38-4786-45c6-ce96-9624c349de0d",
        "colab": {
          "base_uri": "https://localhost:8080/",
          "height": 255
        }
      },
      "source": [
        "model = NetWidth().to(device=device)\n",
        "optimizer = optim.SGD(model.parameters(), lr=1e-2)\n",
        "loss_fn = nn.CrossEntropyLoss()\n",
        "\n",
        "training_loop(\n",
        "    n_epochs = 100,\n",
        "    optimizer = optimizer,\n",
        "    model = model,\n",
        "    loss_fn = loss_fn,\n",
        "    train_loader = train_loader,\n",
        ")\n",
        "\n",
        "validate(model, train_loader, val_loader)"
      ],
      "execution_count": null,
      "outputs": [
        {
          "output_type": "stream",
          "text": [
            "2020-10-03 18:02:29.694127 Epoch 1, Training loss 0.569658173117668\n",
            "2020-10-03 18:02:33.313754 Epoch 10, Training loss 0.32219793481431946\n",
            "2020-10-03 18:02:37.268091 Epoch 20, Training loss 0.2805888512331969\n",
            "2020-10-03 18:02:41.199511 Epoch 30, Training loss 0.24591600890182386\n",
            "2020-10-03 18:02:45.106859 Epoch 40, Training loss 0.21832924896174935\n",
            "2020-10-03 18:02:49.015188 Epoch 50, Training loss 0.19432437609715067\n",
            "2020-10-03 18:02:52.917829 Epoch 60, Training loss 0.17152156078132094\n",
            "2020-10-03 18:02:56.929907 Epoch 70, Training loss 0.14893593696082474\n",
            "2020-10-03 18:03:00.941066 Epoch 80, Training loss 0.1271450824466101\n",
            "2020-10-03 18:03:04.860362 Epoch 90, Training loss 0.10680842508745801\n",
            "2020-10-03 18:03:08.802123 Epoch 100, Training loss 0.08849463259480941\n",
            "Accuracy train: 0.96\n",
            "Accuracy val: 0.89\n"
          ],
          "name": "stdout"
        },
        {
          "output_type": "execute_result",
          "data": {
            "text/plain": [
              "{'train': 0.9629, 'val': 0.89}"
            ]
          },
          "metadata": {
            "tags": []
          },
          "execution_count": 43
        }
      ]
    },
    {
      "cell_type": "markdown",
      "metadata": {
        "id": "r3NIqWZaTchi"
      },
      "source": [
        "Redefine the `NetWidth` subclass by setting the number of channels (`n_chans1`) as a parameter of the class constructor. See page 218 of the book."
      ]
    },
    {
      "cell_type": "code",
      "metadata": {
        "id": "d04qgpf4d6s0"
      },
      "source": [
        "class NetWidth(nn.Module):\n",
        "    def __init__(self, n_chans1=32):\n",
        "        super().__init__()\n",
        "        self.n_chans1 = n_chans1\n",
        "        self.conv1 = nn.Conv2d(3, n_chans1, kernel_size=3, padding=1)\n",
        "        self.conv2 = nn.Conv2d(n_chans1, n_chans1 // 2, kernel_size=3,\n",
        "                               padding=1)\n",
        "        self.fc1 = nn.Linear(8 * 8 * n_chans1 // 2, 32)\n",
        "        self.fc2 = nn.Linear(32, 2)\n",
        "        \n",
        "    def forward(self, x):\n",
        "        out = F.max_pool2d(torch.tanh(self.conv1(x)), 2)\n",
        "        out = F.max_pool2d(torch.tanh(self.conv2(out)), 2)\n",
        "        out = out.view(-1, 8 * 8 * self.n_chans1 // 2)\n",
        "        out = torch.tanh(self.fc1(out))\n",
        "        out = self.fc2(out)\n",
        "        return out\n"
      ],
      "execution_count": null,
      "outputs": []
    },
    {
      "cell_type": "markdown",
      "metadata": {
        "id": "WzE_vZCsTtiL"
      },
      "source": [
        "Train the previously defined model."
      ]
    },
    {
      "cell_type": "code",
      "metadata": {
        "id": "oqubKdgnd6s2",
        "outputId": "390062b1-65e1-4086-8821-7c7e786322cb",
        "colab": {
          "base_uri": "https://localhost:8080/",
          "height": 238
        }
      },
      "source": [
        "model = NetWidth(n_chans1=32).to(device=device)\n",
        "optimizer = optim.SGD(model.parameters(), lr=1e-2)\n",
        "loss_fn = nn.CrossEntropyLoss()\n",
        "\n",
        "training_loop(\n",
        "    n_epochs = 100,\n",
        "    optimizer = optimizer,\n",
        "    model = model,\n",
        "    loss_fn = loss_fn,\n",
        "    train_loader = train_loader,\n",
        ")\n",
        "\n",
        "all_acc_dict[\"width\"] = validate(model, train_loader, val_loader)"
      ],
      "execution_count": null,
      "outputs": [
        {
          "output_type": "stream",
          "text": [
            "2020-10-03 18:03:09.547623 Epoch 1, Training loss 0.5444508557486686\n",
            "2020-10-03 18:03:13.137061 Epoch 10, Training loss 0.3170753327334762\n",
            "2020-10-03 18:03:17.169568 Epoch 20, Training loss 0.2745351647115817\n",
            "2020-10-03 18:03:21.119276 Epoch 30, Training loss 0.24255374937680116\n",
            "2020-10-03 18:03:25.178132 Epoch 40, Training loss 0.21334258348319182\n",
            "2020-10-03 18:03:29.318903 Epoch 50, Training loss 0.1869265928295008\n",
            "2020-10-03 18:03:33.381884 Epoch 60, Training loss 0.16310881932449947\n",
            "2020-10-03 18:03:37.339210 Epoch 70, Training loss 0.14082480271815495\n",
            "2020-10-03 18:03:41.311957 Epoch 80, Training loss 0.11995151366113098\n",
            "2020-10-03 18:03:45.340468 Epoch 90, Training loss 0.10072586221537393\n",
            "2020-10-03 18:03:49.395462 Epoch 100, Training loss 0.08321558117012309\n",
            "Accuracy train: 0.96\n",
            "Accuracy val: 0.90\n"
          ],
          "name": "stdout"
        }
      ]
    },
    {
      "cell_type": "markdown",
      "metadata": {
        "id": "7lrhLGeYT0RW"
      },
      "source": [
        "Check that the number of parameters of the wider model is higher than that of the previous model, due to the extra channels."
      ]
    },
    {
      "cell_type": "code",
      "metadata": {
        "id": "QbgxYev6d6s4",
        "outputId": "2681e4b5-a43e-43c6-8016-4921017aabfe",
        "colab": {
          "base_uri": "https://localhost:8080/",
          "height": 34
        }
      },
      "source": [
        "sum(p.numel() for p in model.parameters())"
      ],
      "execution_count": null,
      "outputs": [
        {
          "output_type": "execute_result",
          "data": {
            "text/plain": [
              "38386"
            ]
          },
          "metadata": {
            "tags": []
          },
          "execution_count": 46
        }
      ]
    },
    {
      "cell_type": "markdown",
      "metadata": {
        "id": "b9Rv0aG6UF5Z"
      },
      "source": [
        "Redefine the training loop to include L2 regularization, also known as weight decay. See pages 219-220 of the book.\n",
        "\n",
        "Please note that the `l2_lambda` hyperparameter controls how strongly large weights are penalized."
      ]
    },
    {
      "cell_type": "code",
      "metadata": {
        "id": "9ULGKmrZd6s6"
      },
      "source": [
        "def training_loop_l2reg(n_epochs, optimizer, model, loss_fn,\n",
        "                        train_loader):\n",
        "    for epoch in range(1, n_epochs + 1):\n",
        "        loss_train = 0.0\n",
        "        for imgs, labels in train_loader:\n",
        "            imgs = imgs.to(device=device)\n",
        "            labels = labels.to(device=device)\n",
        "            outputs = model(imgs)\n",
        "            loss = loss_fn(outputs, labels)\n",
        "\n",
        "            l2_lambda = 0.001\n",
        "            l2_norm = sum(p.pow(2.0).sum()\n",
        "                          for p in model.parameters())  # <1>\n",
        "            loss = loss + l2_lambda * l2_norm\n",
        "\n",
        "            optimizer.zero_grad()\n",
        "            loss.backward()\n",
        "            optimizer.step()\n",
        "            \n",
        "            loss_train += loss.item()\n",
        "        if epoch == 1 or epoch % 10 == 0:\n",
        "            print('{} Epoch {}, Training loss {}'.format(\n",
        "                datetime.datetime.now(), epoch,\n",
        "                loss_train / len(train_loader)))\n"
      ],
      "execution_count": null,
      "outputs": []
    },
    {
      "cell_type": "markdown",
      "metadata": {
        "id": "OGKtwQdXUyLl"
      },
      "source": [
        "Train the model with L2 regularization."
      ]
    },
    {
      "cell_type": "code",
      "metadata": {
        "id": "wWHgrlD5d6s8",
        "outputId": "ddf18184-b9f0-4fe2-d25c-6fe2eb0ef38c",
        "colab": {
          "base_uri": "https://localhost:8080/",
          "height": 238
        }
      },
      "source": [
        "model = Net().to(device=device)\n",
        "optimizer = optim.SGD(model.parameters(), lr=1e-2)\n",
        "loss_fn = nn.CrossEntropyLoss()\n",
        "\n",
        "training_loop_l2reg(\n",
        "    n_epochs = 100,\n",
        "    optimizer = optimizer,\n",
        "    model = model,\n",
        "    loss_fn = loss_fn,\n",
        "    train_loader = train_loader,\n",
        ")\n",
        "all_acc_dict[\"l2 reg\"] = validate(model, train_loader, val_loader)"
      ],
      "execution_count": null,
      "outputs": [
        {
          "output_type": "stream",
          "text": [
            "2020-10-03 18:03:50.235941 Epoch 1, Training loss 0.5842778145507642\n",
            "2020-10-03 18:03:55.028003 Epoch 10, Training loss 0.36634593224449524\n",
            "2020-10-03 18:04:00.554594 Epoch 20, Training loss 0.32257517868546165\n",
            "2020-10-03 18:04:05.918086 Epoch 30, Training loss 0.2961528061112021\n",
            "2020-10-03 18:04:11.349903 Epoch 40, Training loss 0.27755376971830986\n",
            "2020-10-03 18:04:16.746664 Epoch 50, Training loss 0.26365615019373073\n",
            "2020-10-03 18:04:22.136931 Epoch 60, Training loss 0.2515724055516492\n",
            "2020-10-03 18:04:27.569813 Epoch 70, Training loss 0.24009247911963494\n",
            "2020-10-03 18:04:33.089622 Epoch 80, Training loss 0.22937037563248044\n",
            "2020-10-03 18:04:38.525146 Epoch 90, Training loss 0.21903633013082918\n",
            "2020-10-03 18:04:43.934506 Epoch 100, Training loss 0.20924322819633848\n",
            "Accuracy train: 0.90\n",
            "Accuracy val: 0.87\n"
          ],
          "name": "stdout"
        }
      ]
    },
    {
      "cell_type": "markdown",
      "metadata": {
        "id": "hZ7BwhdYU3n9"
      },
      "source": [
        "Define a subclass `NetDropout` of the `nn.Module` class that implements dropout to prevent overfitting. See pages 220-221 of the book."
      ]
    },
    {
      "cell_type": "code",
      "metadata": {
        "id": "B5tjUIeud6s9"
      },
      "source": [
        "class NetDropout(nn.Module):\n",
        "    def __init__(self, n_chans1=32):\n",
        "        super().__init__()\n",
        "        self.n_chans1 = n_chans1\n",
        "        self.conv1 = nn.Conv2d(3, n_chans1, kernel_size=3, padding=1)\n",
        "        self.conv1_dropout = nn.Dropout2d(p=0.4)\n",
        "        self.conv2 = nn.Conv2d(n_chans1, n_chans1 // 2, kernel_size=3,\n",
        "                               padding=1)\n",
        "        self.conv2_dropout = nn.Dropout2d(p=0.4)\n",
        "        self.fc1 = nn.Linear(8 * 8 * n_chans1 // 2, 32)\n",
        "        self.fc2 = nn.Linear(32, 2)\n",
        "        \n",
        "    def forward(self, x):\n",
        "        out = F.max_pool2d(torch.tanh(self.conv1(x)), 2)\n",
        "        out = self.conv1_dropout(out)\n",
        "        out = F.max_pool2d(torch.tanh(self.conv2(out)), 2)\n",
        "        out = self.conv2_dropout(out)\n",
        "        out = out.view(-1, 8 * 8 * self.n_chans1 // 2)\n",
        "        out = torch.tanh(self.fc1(out))\n",
        "        out = self.fc2(out)\n",
        "        return out"
      ],
      "execution_count": null,
      "outputs": []
    },
    {
      "cell_type": "markdown",
      "metadata": {
        "id": "j267edOnWQeP"
      },
      "source": [
        "Train the model with dropout."
      ]
    },
    {
      "cell_type": "code",
      "metadata": {
        "id": "oKrSICbhd6s_",
        "outputId": "611b1be0-ad1a-4c25-88de-43c2110212c2",
        "colab": {
          "base_uri": "https://localhost:8080/",
          "height": 238
        }
      },
      "source": [
        "model = NetDropout(n_chans1=32).to(device=device)\n",
        "optimizer = optim.SGD(model.parameters(), lr=1e-2)\n",
        "loss_fn = nn.CrossEntropyLoss()\n",
        "\n",
        "training_loop(\n",
        "    n_epochs = 100,\n",
        "    optimizer = optimizer,\n",
        "    model = model,\n",
        "    loss_fn = loss_fn,\n",
        "    train_loader = train_loader,\n",
        ")\n",
        "all_acc_dict[\"dropout\"] = validate(model, train_loader, val_loader)"
      ],
      "execution_count": null,
      "outputs": [
        {
          "output_type": "stream",
          "text": [
            "2020-10-03 18:04:44.642521 Epoch 1, Training loss 0.5800063126026445\n",
            "2020-10-03 18:04:48.546815 Epoch 10, Training loss 0.38075151071426977\n",
            "2020-10-03 18:04:52.921916 Epoch 20, Training loss 0.3490986672176677\n",
            "2020-10-03 18:04:57.251185 Epoch 30, Training loss 0.3297802624618931\n",
            "2020-10-03 18:05:01.573154 Epoch 40, Training loss 0.3125718879471919\n",
            "2020-10-03 18:05:05.912474 Epoch 50, Training loss 0.29208953223031037\n",
            "2020-10-03 18:05:10.175956 Epoch 60, Training loss 0.28206183538315405\n",
            "2020-10-03 18:05:14.415267 Epoch 70, Training loss 0.2723569439095297\n",
            "2020-10-03 18:05:18.647266 Epoch 80, Training loss 0.26272309443373587\n",
            "2020-10-03 18:05:22.986824 Epoch 90, Training loss 0.25365989014601253\n",
            "2020-10-03 18:05:27.312741 Epoch 100, Training loss 0.2399924808436898\n",
            "Accuracy train: 0.89\n",
            "Accuracy val: 0.88\n"
          ],
          "name": "stdout"
        }
      ]
    },
    {
      "cell_type": "markdown",
      "metadata": {
        "id": "YAhXeM5_WZit"
      },
      "source": [
        "Create a `NetBatchNorm` subclass of the `nn.Module` that implements batch normalization in order to speed up the learning and carry out regularization. See page 222 of the book."
      ]
    },
    {
      "cell_type": "code",
      "metadata": {
        "id": "cjQwid4Ad6tA"
      },
      "source": [
        "class NetBatchNorm(nn.Module):\n",
        "    def __init__(self, n_chans1=32):\n",
        "        super().__init__()\n",
        "        self.n_chans1 = n_chans1\n",
        "        self.conv1 = nn.Conv2d(3, n_chans1, kernel_size=3, padding=1)\n",
        "        self.conv1_batchnorm = nn.BatchNorm2d(num_features=n_chans1)\n",
        "        self.conv2 = nn.Conv2d(n_chans1, n_chans1 // 2, kernel_size=3, \n",
        "                               padding=1)\n",
        "        self.conv2_batchnorm = nn.BatchNorm2d(num_features=n_chans1 // 2)\n",
        "        self.fc1 = nn.Linear(8 * 8 * n_chans1 // 2, 32)\n",
        "        self.fc2 = nn.Linear(32, 2)\n",
        "        \n",
        "    def forward(self, x):\n",
        "        out = self.conv1_batchnorm(self.conv1(x))\n",
        "        out = F.max_pool2d(torch.tanh(out), 2)\n",
        "        out = self.conv2_batchnorm(self.conv2(out))\n",
        "        out = F.max_pool2d(torch.tanh(out), 2)\n",
        "        out = out.view(-1, 8 * 8 * self.n_chans1 // 2)\n",
        "        out = torch.tanh(self.fc1(out))\n",
        "        out = self.fc2(out)\n",
        "        return out"
      ],
      "execution_count": null,
      "outputs": []
    },
    {
      "cell_type": "markdown",
      "metadata": {
        "id": "-J0YBazGXKag"
      },
      "source": [
        "Train the model with batch normalization"
      ]
    },
    {
      "cell_type": "code",
      "metadata": {
        "id": "hFG0EHmcd6tC",
        "outputId": "e45e429b-9ba2-47f2-fadd-7f0ad3c2129d",
        "colab": {
          "base_uri": "https://localhost:8080/",
          "height": 238
        }
      },
      "source": [
        "model = NetBatchNorm(n_chans1=32).to(device=device)\n",
        "optimizer = optim.SGD(model.parameters(), lr=1e-2)\n",
        "loss_fn = nn.CrossEntropyLoss()\n",
        "\n",
        "training_loop(\n",
        "    n_epochs = 100,\n",
        "    optimizer = optimizer,\n",
        "    model = model,\n",
        "    loss_fn = loss_fn,\n",
        "    train_loader = train_loader,\n",
        ")\n",
        "all_acc_dict[\"batch_norm\"] = validate(model, train_loader, val_loader)"
      ],
      "execution_count": null,
      "outputs": [
        {
          "output_type": "stream",
          "text": [
            "2020-10-03 18:05:28.186618 Epoch 1, Training loss 0.47399871915009373\n",
            "2020-10-03 18:05:32.472403 Epoch 10, Training loss 0.25980775314531507\n",
            "2020-10-03 18:05:37.259258 Epoch 20, Training loss 0.19415953688940424\n",
            "2020-10-03 18:05:42.018627 Epoch 30, Training loss 0.14398394067101417\n",
            "2020-10-03 18:05:46.845721 Epoch 40, Training loss 0.10277671833184494\n",
            "2020-10-03 18:05:51.664310 Epoch 50, Training loss 0.0668683294681417\n",
            "2020-10-03 18:05:56.532233 Epoch 60, Training loss 0.04168906228343962\n",
            "2020-10-03 18:06:01.310366 Epoch 70, Training loss 0.028529456552640078\n",
            "2020-10-03 18:06:06.149025 Epoch 80, Training loss 0.016165737472000015\n",
            "2020-10-03 18:06:11.001029 Epoch 90, Training loss 0.08539414252925688\n",
            "2020-10-03 18:06:15.801016 Epoch 100, Training loss 0.008903632279349028\n",
            "Accuracy train: 1.00\n",
            "Accuracy val: 0.89\n"
          ],
          "name": "stdout"
        }
      ]
    },
    {
      "cell_type": "markdown",
      "metadata": {
        "id": "xlRN4XciXV6X"
      },
      "source": [
        "Create a NetDepth subclass of the nn.Module class that implements a deeper neural architecture. See pages 223-224 of the book."
      ]
    },
    {
      "cell_type": "code",
      "metadata": {
        "id": "WYaLIfa2d6tD"
      },
      "source": [
        "class NetDepth(nn.Module):\n",
        "    def __init__(self, n_chans1=32):\n",
        "        super().__init__()\n",
        "        self.n_chans1 = n_chans1\n",
        "        self.conv1 = nn.Conv2d(3, n_chans1, kernel_size=3, padding=1)\n",
        "        self.conv2 = nn.Conv2d(n_chans1, n_chans1 // 2, kernel_size=3,\n",
        "                               padding=1)\n",
        "        self.conv3 = nn.Conv2d(n_chans1 // 2, n_chans1 // 2,\n",
        "                               kernel_size=3, padding=1)\n",
        "        self.fc1 = nn.Linear(4 * 4 * n_chans1 // 2, 32)\n",
        "        self.fc2 = nn.Linear(32, 2)\n",
        "        \n",
        "    def forward(self, x):\n",
        "        out = F.max_pool2d(torch.relu(self.conv1(x)), 2)\n",
        "        out = F.max_pool2d(torch.relu(self.conv2(out)), 2)\n",
        "        out = F.max_pool2d(torch.relu(self.conv3(out)), 2)\n",
        "        out = out.view(-1, 4 * 4 * self.n_chans1 // 2)\n",
        "        out = torch.relu(self.fc1(out))\n",
        "        out = self.fc2(out)\n",
        "        return out"
      ],
      "execution_count": null,
      "outputs": []
    },
    {
      "cell_type": "markdown",
      "metadata": {
        "id": "jYkPqL8qX5bQ"
      },
      "source": [
        "Train the deeper model."
      ]
    },
    {
      "cell_type": "code",
      "metadata": {
        "id": "x7u3-WEdd6tF",
        "outputId": "66d68616-dec0-476e-a25c-8e2fcd6f94bf",
        "colab": {
          "base_uri": "https://localhost:8080/",
          "height": 238
        }
      },
      "source": [
        "model = NetDepth(n_chans1=32).to(device=device)\n",
        "optimizer = optim.SGD(model.parameters(), lr=1e-2)\n",
        "loss_fn = nn.CrossEntropyLoss()\n",
        "\n",
        "training_loop(\n",
        "    n_epochs = 100,\n",
        "    optimizer = optimizer,\n",
        "    model = model,\n",
        "    loss_fn = loss_fn,\n",
        "    train_loader = train_loader,\n",
        ")\n",
        "all_acc_dict[\"depth\"] = validate(model, train_loader, val_loader)"
      ],
      "execution_count": null,
      "outputs": [
        {
          "output_type": "stream",
          "text": [
            "2020-10-03 18:06:16.572636 Epoch 1, Training loss 0.6548030710524055\n",
            "2020-10-03 18:06:20.644653 Epoch 10, Training loss 0.33995750451543527\n",
            "2020-10-03 18:06:25.141102 Epoch 20, Training loss 0.3013665283181865\n",
            "2020-10-03 18:06:29.644013 Epoch 30, Training loss 0.27265951322142484\n",
            "2020-10-03 18:06:34.153608 Epoch 40, Training loss 0.24402576827319564\n",
            "2020-10-03 18:06:38.650839 Epoch 50, Training loss 0.21670965219189406\n",
            "2020-10-03 18:06:43.130695 Epoch 60, Training loss 0.19082109051145565\n",
            "2020-10-03 18:06:47.634764 Epoch 70, Training loss 0.1669179356544261\n",
            "2020-10-03 18:06:52.140406 Epoch 80, Training loss 0.14440111441027587\n",
            "2020-10-03 18:06:56.633855 Epoch 90, Training loss 0.12107962006880979\n",
            "2020-10-03 18:07:01.245959 Epoch 100, Training loss 0.09873796572351153\n",
            "Accuracy train: 0.95\n",
            "Accuracy val: 0.90\n"
          ],
          "name": "stdout"
        }
      ]
    },
    {
      "cell_type": "markdown",
      "metadata": {
        "id": "e25O3spRYGCk"
      },
      "source": [
        "Create a `NetRes` subclass of the `nn.Module` class that defines a residual network. See pages 223-225 of the book."
      ]
    },
    {
      "cell_type": "code",
      "metadata": {
        "id": "tgqOHcy5d6tJ"
      },
      "source": [
        "class NetRes(nn.Module):\n",
        "    def __init__(self, n_chans1=32):\n",
        "        super().__init__()\n",
        "        self.n_chans1 = n_chans1\n",
        "        self.conv1 = nn.Conv2d(3, n_chans1, kernel_size=3, padding=1)\n",
        "        self.conv2 = nn.Conv2d(n_chans1, n_chans1 // 2, kernel_size=3,\n",
        "                               padding=1)\n",
        "        self.conv3 = nn.Conv2d(n_chans1 // 2, n_chans1 // 2,\n",
        "                               kernel_size=3, padding=1)\n",
        "        self.fc1 = nn.Linear(4 * 4 * n_chans1 // 2, 32)\n",
        "        self.fc2 = nn.Linear(32, 2)\n",
        "        \n",
        "    def forward(self, x):\n",
        "        out = F.max_pool2d(torch.relu(self.conv1(x)), 2)\n",
        "        out = F.max_pool2d(torch.relu(self.conv2(out)), 2)\n",
        "        out1 = out\n",
        "        out = F.max_pool2d(torch.relu(self.conv3(out)) + out1, 2)\n",
        "        out = out.view(-1, 4 * 4 * self.n_chans1 // 2)\n",
        "        out = torch.relu(self.fc1(out))\n",
        "        out = self.fc2(out)\n",
        "        return out"
      ],
      "execution_count": null,
      "outputs": []
    },
    {
      "cell_type": "markdown",
      "metadata": {
        "id": "NPrv3tpIYw6W"
      },
      "source": [
        "Train the residual network."
      ]
    },
    {
      "cell_type": "code",
      "metadata": {
        "id": "_rdsHi-Xd6tK",
        "outputId": "67eef435-bc3b-48cf-852e-e15fe5f21293",
        "colab": {
          "base_uri": "https://localhost:8080/",
          "height": 238
        }
      },
      "source": [
        "model = NetRes(n_chans1=32).to(device=device)\n",
        "optimizer = optim.SGD(model.parameters(), lr=1e-2)\n",
        "loss_fn = nn.CrossEntropyLoss()\n",
        "\n",
        "training_loop(\n",
        "    n_epochs = 100,\n",
        "    optimizer = optimizer,\n",
        "    model = model,\n",
        "    loss_fn = loss_fn,\n",
        "    train_loader = train_loader,\n",
        ")\n",
        "all_acc_dict[\"res\"] = validate(model, train_loader, val_loader)"
      ],
      "execution_count": null,
      "outputs": [
        {
          "output_type": "stream",
          "text": [
            "2020-10-03 18:07:02.018285 Epoch 1, Training loss 0.6650007108973849\n",
            "2020-10-03 18:07:06.218349 Epoch 10, Training loss 0.3292970836732038\n",
            "2020-10-03 18:07:10.882019 Epoch 20, Training loss 0.2861516498456335\n",
            "2020-10-03 18:07:15.432902 Epoch 30, Training loss 0.2552978458108416\n",
            "2020-10-03 18:07:20.007694 Epoch 40, Training loss 0.228219348296618\n",
            "2020-10-03 18:07:24.591479 Epoch 50, Training loss 0.20221760252099127\n",
            "2020-10-03 18:07:29.277774 Epoch 60, Training loss 0.17716037937600143\n",
            "2020-10-03 18:07:33.849279 Epoch 70, Training loss 0.15272267215001356\n",
            "2020-10-03 18:07:38.489067 Epoch 80, Training loss 0.12769096252170337\n",
            "2020-10-03 18:07:43.093121 Epoch 90, Training loss 0.10287515535523557\n",
            "2020-10-03 18:07:47.922339 Epoch 100, Training loss 0.0795267750598063\n",
            "Accuracy train: 0.96\n",
            "Accuracy val: 0.89\n"
          ],
          "name": "stdout"
        }
      ]
    },
    {
      "cell_type": "markdown",
      "metadata": {
        "id": "DOFEUU4pZAj8"
      },
      "source": [
        "Create a `ResBlock` subclass of the `nn.Module` class that defines a block of convolution, activation and skip connection. See page 227 of the book. "
      ]
    },
    {
      "cell_type": "code",
      "metadata": {
        "id": "kR9-c23pd6tM"
      },
      "source": [
        "class ResBlock(nn.Module):\n",
        "    def __init__(self, n_chans):\n",
        "        super(ResBlock, self).__init__()\n",
        "        self.conv = nn.Conv2d(n_chans, n_chans, kernel_size=3,\n",
        "                              padding=1, bias=False)  # <1>\n",
        "        self.batch_norm = nn.BatchNorm2d(num_features=n_chans)\n",
        "        torch.nn.init.kaiming_normal_(self.conv.weight,\n",
        "                                      nonlinearity='relu')  # <2>\n",
        "        torch.nn.init.constant_(self.batch_norm.weight, 0.5)\n",
        "        torch.nn.init.zeros_(self.batch_norm.bias)\n",
        "\n",
        "    def forward(self, x):\n",
        "        out = self.conv(x)\n",
        "        out = self.batch_norm(out)\n",
        "        out = torch.relu(out)\n",
        "        return out + x"
      ],
      "execution_count": null,
      "outputs": []
    },
    {
      "cell_type": "markdown",
      "metadata": {
        "id": "uekDUXvwZZL0"
      },
      "source": [
        "Create a `NetResDeep` subclass of the `nn.Module` class that defines a very deep residual network composed of `ResBlock` blocks. The number of blocks is given by the `n_blocks` parameter to the class constructor. See page 227 of the book."
      ]
    },
    {
      "cell_type": "code",
      "metadata": {
        "id": "8lhQ3tEWd6tP"
      },
      "source": [
        "class NetResDeep(nn.Module):\n",
        "    def __init__(self, n_chans1=32, n_blocks=10):\n",
        "        super().__init__()\n",
        "        self.n_chans1 = n_chans1\n",
        "        self.conv1 = nn.Conv2d(3, n_chans1, kernel_size=3, padding=1)\n",
        "        self.resblocks = nn.Sequential(\n",
        "            *(n_blocks * [ResBlock(n_chans=n_chans1)]))\n",
        "        self.fc1 = nn.Linear(8 * 8 * n_chans1, 32)\n",
        "        self.fc2 = nn.Linear(32, 2)\n",
        "        \n",
        "    def forward(self, x):\n",
        "        out = F.max_pool2d(torch.relu(self.conv1(x)), 2)\n",
        "        out = self.resblocks(out)\n",
        "        out = F.max_pool2d(out, 2)\n",
        "        out = out.view(-1, 8 * 8 * self.n_chans1)\n",
        "        out = torch.relu(self.fc1(out))\n",
        "        out = self.fc2(out)\n",
        "        return out\n",
        "    \n"
      ],
      "execution_count": null,
      "outputs": []
    },
    {
      "cell_type": "markdown",
      "metadata": {
        "id": "aAwYMCZ-Z43V"
      },
      "source": [
        "Train the very deep residual network composed of `ResBlock` blocks."
      ]
    },
    {
      "cell_type": "code",
      "metadata": {
        "id": "89pK-_39d6tQ",
        "outputId": "468790d8-bccf-4167-b1d9-dcb12b565f4d",
        "colab": {
          "base_uri": "https://localhost:8080/",
          "height": 119
        }
      },
      "source": [
        "model = NetResDeep(n_chans1=32, n_blocks=100).to(device=device)\n",
        "optimizer = optim.SGD(model.parameters(), lr=3e-3)\n",
        "loss_fn = nn.CrossEntropyLoss()\n",
        "\n",
        "training_loop(\n",
        "    n_epochs = 100,\n",
        "    optimizer = optimizer,\n",
        "    model = model,\n",
        "    loss_fn = loss_fn,\n",
        "    train_loader = train_loader,\n",
        ")\n",
        "all_acc_dict[\"res deep\"] = validate(model, train_loader, val_loader)"
      ],
      "execution_count": null,
      "outputs": [
        {
          "output_type": "stream",
          "text": [
            "2020-10-03 18:07:58.092228 Epoch 1, Training loss 2.273136031096149\n",
            "2020-10-03 18:09:26.758649 Epoch 10, Training loss 0.3788222589880038\n",
            "2020-10-03 18:11:05.044976 Epoch 20, Training loss 0.30534596247657847\n",
            "2020-10-03 18:12:43.850345 Epoch 30, Training loss 0.25487877960038036\n",
            "2020-10-03 18:14:22.806756 Epoch 40, Training loss 0.2085157937969372\n",
            "2020-10-03 18:16:01.583172 Epoch 50, Training loss 0.15721193136303288\n"
          ],
          "name": "stdout"
        }
      ]
    },
    {
      "cell_type": "markdown",
      "metadata": {
        "id": "FSz-rqL_aNRd"
      },
      "source": [
        "Compare the performance of the previously trained models, in terms of training and validation accuracy. See pages 228-229 of the book."
      ]
    },
    {
      "cell_type": "code",
      "metadata": {
        "id": "OHkgE66xd6tT"
      },
      "source": [
        "trn_acc = [v['train'] for k, v in all_acc_dict.items()]\n",
        "val_acc = [v['val'] for k, v in all_acc_dict.items()]\n",
        "\n",
        "width =0.3\n",
        "plt.bar(np.arange(len(trn_acc)), trn_acc, width=width, label='train')\n",
        "plt.bar(np.arange(len(val_acc))+ width, val_acc, width=width, label='val')\n",
        "plt.xticks(np.arange(len(val_acc))+ width/2, list(all_acc_dict.keys()),\n",
        "           rotation=60)\n",
        "plt.ylabel('accuracy')\n",
        "plt.legend(loc='lower right')\n",
        "plt.ylim(0.7, 1)\n",
        "plt.savefig('accuracy_comparison.png', bbox_inches='tight')\n",
        "plt.show()\n"
      ],
      "execution_count": null,
      "outputs": []
    },
    {
      "cell_type": "code",
      "metadata": {
        "id": "V6LlYCBdd6tU"
      },
      "source": [
        ""
      ],
      "execution_count": null,
      "outputs": []
    }
  ]
}